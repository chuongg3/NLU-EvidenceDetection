{
 "cells": [
  {
   "cell_type": "markdown",
   "metadata": {},
   "source": [
    "# Co-Attention Siamese Model Evaluation"
   ]
  },
  {
   "cell_type": "code",
   "execution_count": 1,
   "metadata": {},
   "outputs": [
    {
     "name": "stdout",
     "output_type": "stream",
     "text": [
      "Defaulting to user installation because normal site-packages is not writeable\n",
      "\u001b[33mWARNING: Ignoring invalid distribution -vidia-curand-cu12 (/home/chuongg3/.local/lib/python3.10/site-packages)\u001b[0m\u001b[33m\n",
      "\u001b[0m\u001b[33mWARNING: Ignoring invalid distribution -vidia-cusolver-cu12 (/home/chuongg3/.local/lib/python3.10/site-packages)\u001b[0m\u001b[33m\n",
      "\u001b[0mRequirement already satisfied: pandas==2.2.3 in /home/chuongg3/.local/lib/python3.10/site-packages (2.2.3)\n",
      "Requirement already satisfied: numpy>=1.22.4 in /home/chuongg3/.local/lib/python3.10/site-packages (from pandas==2.2.3) (1.26.4)\n",
      "Requirement already satisfied: python-dateutil>=2.8.2 in /home/chuongg3/.local/lib/python3.10/site-packages (from pandas==2.2.3) (2.9.0.post0)\n",
      "Requirement already satisfied: pytz>=2020.1 in /usr/lib/python3/dist-packages (from pandas==2.2.3) (2022.1)\n",
      "Requirement already satisfied: tzdata>=2022.7 in /home/chuongg3/.local/lib/python3.10/site-packages (from pandas==2.2.3) (2024.1)\n",
      "Requirement already satisfied: six>=1.5 in /home/chuongg3/.local/lib/python3.10/site-packages (from python-dateutil>=2.8.2->pandas==2.2.3) (1.16.0)\n",
      "\u001b[33mWARNING: Ignoring invalid distribution -vidia-curand-cu12 (/home/chuongg3/.local/lib/python3.10/site-packages)\u001b[0m\u001b[33m\n",
      "\u001b[0m\u001b[33mWARNING: Ignoring invalid distribution -vidia-cusolver-cu12 (/home/chuongg3/.local/lib/python3.10/site-packages)\u001b[0m\u001b[33m\n",
      "\u001b[0m\u001b[33mWARNING: Ignoring invalid distribution -vidia-curand-cu12 (/home/chuongg3/.local/lib/python3.10/site-packages)\u001b[0m\u001b[33m\n",
      "\u001b[0m\u001b[33mWARNING: Ignoring invalid distribution -vidia-cusolver-cu12 (/home/chuongg3/.local/lib/python3.10/site-packages)\u001b[0m\u001b[33m\n",
      "\u001b[0mDefaulting to user installation because normal site-packages is not writeable\n",
      "\u001b[33mWARNING: Ignoring invalid distribution -vidia-curand-cu12 (/home/chuongg3/.local/lib/python3.10/site-packages)\u001b[0m\u001b[33m\n",
      "\u001b[0m\u001b[33mWARNING: Ignoring invalid distribution -vidia-cusolver-cu12 (/home/chuongg3/.local/lib/python3.10/site-packages)\u001b[0m\u001b[33m\n",
      "\u001b[0mRequirement already satisfied: numpy==1.26.4 in /home/chuongg3/.local/lib/python3.10/site-packages (1.26.4)\n",
      "\u001b[33mWARNING: Ignoring invalid distribution -vidia-curand-cu12 (/home/chuongg3/.local/lib/python3.10/site-packages)\u001b[0m\u001b[33m\n",
      "\u001b[0m\u001b[33mWARNING: Ignoring invalid distribution -vidia-cusolver-cu12 (/home/chuongg3/.local/lib/python3.10/site-packages)\u001b[0m\u001b[33m\n",
      "\u001b[0m\u001b[33mWARNING: Ignoring invalid distribution -vidia-curand-cu12 (/home/chuongg3/.local/lib/python3.10/site-packages)\u001b[0m\u001b[33m\n",
      "\u001b[0m\u001b[33mWARNING: Ignoring invalid distribution -vidia-cusolver-cu12 (/home/chuongg3/.local/lib/python3.10/site-packages)\u001b[0m\u001b[33m\n",
      "\u001b[0mDefaulting to user installation because normal site-packages is not writeable\n",
      "\u001b[33mWARNING: Ignoring invalid distribution -vidia-curand-cu12 (/home/chuongg3/.local/lib/python3.10/site-packages)\u001b[0m\u001b[33m\n",
      "\u001b[0m\u001b[33mWARNING: Ignoring invalid distribution -vidia-cusolver-cu12 (/home/chuongg3/.local/lib/python3.10/site-packages)\u001b[0m\u001b[33m\n",
      "\u001b[0mRequirement already satisfied: optuna==4.1.0 in /home/chuongg3/.local/lib/python3.10/site-packages (4.1.0)\n",
      "Requirement already satisfied: alembic>=1.5.0 in /home/chuongg3/.local/lib/python3.10/site-packages (from optuna==4.1.0) (1.14.0)\n",
      "Requirement already satisfied: colorlog in /home/chuongg3/.local/lib/python3.10/site-packages (from optuna==4.1.0) (6.9.0)\n",
      "Requirement already satisfied: numpy in /home/chuongg3/.local/lib/python3.10/site-packages (from optuna==4.1.0) (1.26.4)\n",
      "Requirement already satisfied: packaging>=20.0 in /home/chuongg3/.local/lib/python3.10/site-packages (from optuna==4.1.0) (24.2)\n",
      "Requirement already satisfied: sqlalchemy>=1.4.2 in /home/chuongg3/.local/lib/python3.10/site-packages (from optuna==4.1.0) (2.0.36)\n",
      "Requirement already satisfied: tqdm in /home/chuongg3/.local/lib/python3.10/site-packages (from optuna==4.1.0) (4.66.5)\n",
      "Requirement already satisfied: PyYAML in /usr/lib/python3/dist-packages (from optuna==4.1.0) (5.4.1)\n",
      "Requirement already satisfied: Mako in /usr/lib/python3/dist-packages (from alembic>=1.5.0->optuna==4.1.0) (1.1.3)\n",
      "Requirement already satisfied: typing-extensions>=4 in /home/chuongg3/.local/lib/python3.10/site-packages (from alembic>=1.5.0->optuna==4.1.0) (4.12.2)\n",
      "Requirement already satisfied: greenlet!=0.4.17 in /home/chuongg3/.local/lib/python3.10/site-packages (from sqlalchemy>=1.4.2->optuna==4.1.0) (3.1.1)\n",
      "\u001b[33mWARNING: Ignoring invalid distribution -vidia-curand-cu12 (/home/chuongg3/.local/lib/python3.10/site-packages)\u001b[0m\u001b[33m\n",
      "\u001b[0m\u001b[33mWARNING: Ignoring invalid distribution -vidia-cusolver-cu12 (/home/chuongg3/.local/lib/python3.10/site-packages)\u001b[0m\u001b[33m\n",
      "\u001b[0m\u001b[33mWARNING: Ignoring invalid distribution -vidia-curand-cu12 (/home/chuongg3/.local/lib/python3.10/site-packages)\u001b[0m\u001b[33m\n",
      "\u001b[0m\u001b[33mWARNING: Ignoring invalid distribution -vidia-cusolver-cu12 (/home/chuongg3/.local/lib/python3.10/site-packages)\u001b[0m\u001b[33m\n",
      "\u001b[0mDefaulting to user installation because normal site-packages is not writeable\n",
      "\u001b[33mWARNING: Ignoring invalid distribution -vidia-curand-cu12 (/home/chuongg3/.local/lib/python3.10/site-packages)\u001b[0m\u001b[33m\n",
      "\u001b[0m\u001b[33mWARNING: Ignoring invalid distribution -vidia-cusolver-cu12 (/home/chuongg3/.local/lib/python3.10/site-packages)\u001b[0m\u001b[33m\n",
      "\u001b[0mRequirement already satisfied: seaborn==0.13.2 in /home/chuongg3/.local/lib/python3.10/site-packages (0.13.2)\n",
      "Requirement already satisfied: numpy!=1.24.0,>=1.20 in /home/chuongg3/.local/lib/python3.10/site-packages (from seaborn==0.13.2) (1.26.4)\n",
      "Requirement already satisfied: pandas>=1.2 in /home/chuongg3/.local/lib/python3.10/site-packages (from seaborn==0.13.2) (2.2.3)\n",
      "Requirement already satisfied: matplotlib!=3.6.1,>=3.4 in /home/chuongg3/.local/lib/python3.10/site-packages (from seaborn==0.13.2) (3.9.1)\n",
      "Requirement already satisfied: contourpy>=1.0.1 in /home/chuongg3/.local/lib/python3.10/site-packages (from matplotlib!=3.6.1,>=3.4->seaborn==0.13.2) (1.2.1)\n",
      "Requirement already satisfied: cycler>=0.10 in /home/chuongg3/.local/lib/python3.10/site-packages (from matplotlib!=3.6.1,>=3.4->seaborn==0.13.2) (0.12.1)\n",
      "Requirement already satisfied: fonttools>=4.22.0 in /home/chuongg3/.local/lib/python3.10/site-packages (from matplotlib!=3.6.1,>=3.4->seaborn==0.13.2) (4.53.1)\n",
      "Requirement already satisfied: kiwisolver>=1.3.1 in /home/chuongg3/.local/lib/python3.10/site-packages (from matplotlib!=3.6.1,>=3.4->seaborn==0.13.2) (1.4.5)\n",
      "Requirement already satisfied: packaging>=20.0 in /home/chuongg3/.local/lib/python3.10/site-packages (from matplotlib!=3.6.1,>=3.4->seaborn==0.13.2) (24.2)\n",
      "Requirement already satisfied: pillow>=8 in /home/chuongg3/.local/lib/python3.10/site-packages (from matplotlib!=3.6.1,>=3.4->seaborn==0.13.2) (11.1.0)\n",
      "Requirement already satisfied: pyparsing>=2.3.1 in /home/chuongg3/.local/lib/python3.10/site-packages (from matplotlib!=3.6.1,>=3.4->seaborn==0.13.2) (3.2.1)\n",
      "Requirement already satisfied: python-dateutil>=2.7 in /home/chuongg3/.local/lib/python3.10/site-packages (from matplotlib!=3.6.1,>=3.4->seaborn==0.13.2) (2.9.0.post0)\n",
      "Requirement already satisfied: pytz>=2020.1 in /usr/lib/python3/dist-packages (from pandas>=1.2->seaborn==0.13.2) (2022.1)\n",
      "Requirement already satisfied: tzdata>=2022.7 in /home/chuongg3/.local/lib/python3.10/site-packages (from pandas>=1.2->seaborn==0.13.2) (2024.1)\n",
      "Requirement already satisfied: six>=1.5 in /home/chuongg3/.local/lib/python3.10/site-packages (from python-dateutil>=2.7->matplotlib!=3.6.1,>=3.4->seaborn==0.13.2) (1.16.0)\n",
      "\u001b[33mWARNING: Ignoring invalid distribution -vidia-curand-cu12 (/home/chuongg3/.local/lib/python3.10/site-packages)\u001b[0m\u001b[33m\n",
      "\u001b[0m\u001b[33mWARNING: Ignoring invalid distribution -vidia-cusolver-cu12 (/home/chuongg3/.local/lib/python3.10/site-packages)\u001b[0m\u001b[33m\n",
      "\u001b[0m\u001b[33mWARNING: Ignoring invalid distribution -vidia-curand-cu12 (/home/chuongg3/.local/lib/python3.10/site-packages)\u001b[0m\u001b[33m\n",
      "\u001b[0m\u001b[33mWARNING: Ignoring invalid distribution -vidia-cusolver-cu12 (/home/chuongg3/.local/lib/python3.10/site-packages)\u001b[0m\u001b[33m\n",
      "\u001b[0mDefaulting to user installation because normal site-packages is not writeable\n",
      "\u001b[33mWARNING: Ignoring invalid distribution -vidia-curand-cu12 (/home/chuongg3/.local/lib/python3.10/site-packages)\u001b[0m\u001b[33m\n",
      "\u001b[0m\u001b[33mWARNING: Ignoring invalid distribution -vidia-cusolver-cu12 (/home/chuongg3/.local/lib/python3.10/site-packages)\u001b[0m\u001b[33m\n",
      "\u001b[0mRequirement already satisfied: regex==2024.9.11 in /home/chuongg3/.local/lib/python3.10/site-packages (2024.9.11)\n",
      "\u001b[33mWARNING: Ignoring invalid distribution -vidia-curand-cu12 (/home/chuongg3/.local/lib/python3.10/site-packages)\u001b[0m\u001b[33m\n",
      "\u001b[0m\u001b[33mWARNING: Ignoring invalid distribution -vidia-cusolver-cu12 (/home/chuongg3/.local/lib/python3.10/site-packages)\u001b[0m\u001b[33m\n",
      "\u001b[0m\u001b[33mWARNING: Ignoring invalid distribution -vidia-curand-cu12 (/home/chuongg3/.local/lib/python3.10/site-packages)\u001b[0m\u001b[33m\n",
      "\u001b[0m\u001b[33mWARNING: Ignoring invalid distribution -vidia-cusolver-cu12 (/home/chuongg3/.local/lib/python3.10/site-packages)\u001b[0m\u001b[33m\n",
      "\u001b[0mDefaulting to user installation because normal site-packages is not writeable\n",
      "\u001b[33mWARNING: Ignoring invalid distribution -vidia-curand-cu12 (/home/chuongg3/.local/lib/python3.10/site-packages)\u001b[0m\u001b[33m\n",
      "\u001b[0m\u001b[33mWARNING: Ignoring invalid distribution -vidia-cusolver-cu12 (/home/chuongg3/.local/lib/python3.10/site-packages)\u001b[0m\u001b[33m\n",
      "\u001b[0mRequirement already satisfied: tensorflow==2.17.0 in /home/chuongg3/.local/lib/python3.10/site-packages (2.17.0)\n",
      "Requirement already satisfied: absl-py>=1.0.0 in /home/chuongg3/.local/lib/python3.10/site-packages (from tensorflow==2.17.0) (2.1.0)\n",
      "Requirement already satisfied: astunparse>=1.6.0 in /home/chuongg3/.local/lib/python3.10/site-packages (from tensorflow==2.17.0) (1.6.3)\n",
      "Requirement already satisfied: flatbuffers>=24.3.25 in /home/chuongg3/.local/lib/python3.10/site-packages (from tensorflow==2.17.0) (24.3.25)\n",
      "Requirement already satisfied: gast!=0.5.0,!=0.5.1,!=0.5.2,>=0.2.1 in /home/chuongg3/.local/lib/python3.10/site-packages (from tensorflow==2.17.0) (0.6.0)\n",
      "Requirement already satisfied: google-pasta>=0.1.1 in /home/chuongg3/.local/lib/python3.10/site-packages (from tensorflow==2.17.0) (0.2.0)\n",
      "Requirement already satisfied: h5py>=3.10.0 in /home/chuongg3/.local/lib/python3.10/site-packages (from tensorflow==2.17.0) (3.12.1)\n",
      "Requirement already satisfied: libclang>=13.0.0 in /home/chuongg3/.local/lib/python3.10/site-packages (from tensorflow==2.17.0) (18.1.1)\n",
      "Requirement already satisfied: ml-dtypes<0.5.0,>=0.3.1 in /home/chuongg3/.local/lib/python3.10/site-packages (from tensorflow==2.17.0) (0.4.1)\n",
      "Requirement already satisfied: opt-einsum>=2.3.2 in /home/chuongg3/.local/lib/python3.10/site-packages (from tensorflow==2.17.0) (3.4.0)\n",
      "Requirement already satisfied: packaging in /home/chuongg3/.local/lib/python3.10/site-packages (from tensorflow==2.17.0) (24.2)\n",
      "Requirement already satisfied: protobuf!=4.21.0,!=4.21.1,!=4.21.2,!=4.21.3,!=4.21.4,!=4.21.5,<5.0.0dev,>=3.20.3 in /home/chuongg3/.local/lib/python3.10/site-packages (from tensorflow==2.17.0) (4.25.6)\n",
      "Requirement already satisfied: requests<3,>=2.21.0 in /home/chuongg3/.local/lib/python3.10/site-packages (from tensorflow==2.17.0) (2.32.3)\n",
      "Requirement already satisfied: setuptools in /home/chuongg3/.local/lib/python3.10/site-packages (from tensorflow==2.17.0) (75.5.0)\n",
      "Requirement already satisfied: six>=1.12.0 in /home/chuongg3/.local/lib/python3.10/site-packages (from tensorflow==2.17.0) (1.16.0)\n",
      "Requirement already satisfied: termcolor>=1.1.0 in /home/chuongg3/.local/lib/python3.10/site-packages (from tensorflow==2.17.0) (2.5.0)\n",
      "Requirement already satisfied: typing-extensions>=3.6.6 in /home/chuongg3/.local/lib/python3.10/site-packages (from tensorflow==2.17.0) (4.12.2)\n",
      "Requirement already satisfied: wrapt>=1.11.0 in /home/chuongg3/.local/lib/python3.10/site-packages (from tensorflow==2.17.0) (1.14.1)\n",
      "Requirement already satisfied: grpcio<2.0,>=1.24.3 in /home/chuongg3/.local/lib/python3.10/site-packages (from tensorflow==2.17.0) (1.68.0)\n",
      "Requirement already satisfied: tensorboard<2.18,>=2.17 in /home/chuongg3/.local/lib/python3.10/site-packages (from tensorflow==2.17.0) (2.17.1)\n",
      "Requirement already satisfied: keras>=3.2.0 in /home/chuongg3/.local/lib/python3.10/site-packages (from tensorflow==2.17.0) (3.9.1)\n",
      "Requirement already satisfied: tensorflow-io-gcs-filesystem>=0.23.1 in /home/chuongg3/.local/lib/python3.10/site-packages (from tensorflow==2.17.0) (0.37.1)\n",
      "Requirement already satisfied: numpy<2.0.0,>=1.23.5 in /home/chuongg3/.local/lib/python3.10/site-packages (from tensorflow==2.17.0) (1.26.4)\n",
      "Requirement already satisfied: wheel<1.0,>=0.23.0 in /home/chuongg3/.local/lib/python3.10/site-packages (from astunparse>=1.6.0->tensorflow==2.17.0) (0.45.0)\n",
      "Requirement already satisfied: rich in /home/chuongg3/.local/lib/python3.10/site-packages (from keras>=3.2.0->tensorflow==2.17.0) (13.9.4)\n",
      "Requirement already satisfied: namex in /home/chuongg3/.local/lib/python3.10/site-packages (from keras>=3.2.0->tensorflow==2.17.0) (0.0.8)\n",
      "Requirement already satisfied: optree in /home/chuongg3/.local/lib/python3.10/site-packages (from keras>=3.2.0->tensorflow==2.17.0) (0.13.1)\n",
      "Requirement already satisfied: charset-normalizer<4,>=2 in /home/chuongg3/.local/lib/python3.10/site-packages (from requests<3,>=2.21.0->tensorflow==2.17.0) (3.4.0)\n",
      "Requirement already satisfied: idna<4,>=2.5 in /home/chuongg3/.local/lib/python3.10/site-packages (from requests<3,>=2.21.0->tensorflow==2.17.0) (3.10)\n",
      "Requirement already satisfied: urllib3<3,>=1.21.1 in /home/chuongg3/.local/lib/python3.10/site-packages (from requests<3,>=2.21.0->tensorflow==2.17.0) (2.2.3)\n",
      "Requirement already satisfied: certifi>=2017.4.17 in /home/chuongg3/.local/lib/python3.10/site-packages (from requests<3,>=2.21.0->tensorflow==2.17.0) (2024.8.30)\n",
      "Requirement already satisfied: markdown>=2.6.8 in /home/chuongg3/.local/lib/python3.10/site-packages (from tensorboard<2.18,>=2.17->tensorflow==2.17.0) (3.7)\n",
      "Requirement already satisfied: tensorboard-data-server<0.8.0,>=0.7.0 in /home/chuongg3/.local/lib/python3.10/site-packages (from tensorboard<2.18,>=2.17->tensorflow==2.17.0) (0.7.2)\n",
      "Requirement already satisfied: werkzeug>=1.0.1 in /home/chuongg3/.local/lib/python3.10/site-packages (from tensorboard<2.18,>=2.17->tensorflow==2.17.0) (3.1.3)\n",
      "Requirement already satisfied: MarkupSafe>=2.1.1 in /home/chuongg3/.local/lib/python3.10/site-packages (from werkzeug>=1.0.1->tensorboard<2.18,>=2.17->tensorflow==2.17.0) (3.0.2)\n",
      "Requirement already satisfied: markdown-it-py>=2.2.0 in /home/chuongg3/.local/lib/python3.10/site-packages (from rich->keras>=3.2.0->tensorflow==2.17.0) (3.0.0)\n",
      "Requirement already satisfied: pygments<3.0.0,>=2.13.0 in /home/chuongg3/.local/lib/python3.10/site-packages (from rich->keras>=3.2.0->tensorflow==2.17.0) (2.18.0)\n",
      "Requirement already satisfied: mdurl~=0.1 in /home/chuongg3/.local/lib/python3.10/site-packages (from markdown-it-py>=2.2.0->rich->keras>=3.2.0->tensorflow==2.17.0) (0.1.2)\n",
      "\u001b[33mWARNING: Ignoring invalid distribution -vidia-curand-cu12 (/home/chuongg3/.local/lib/python3.10/site-packages)\u001b[0m\u001b[33m\n",
      "\u001b[0m\u001b[33mWARNING: Ignoring invalid distribution -vidia-cusolver-cu12 (/home/chuongg3/.local/lib/python3.10/site-packages)\u001b[0m\u001b[33m\n",
      "\u001b[0m\u001b[33mWARNING: Ignoring invalid distribution -vidia-curand-cu12 (/home/chuongg3/.local/lib/python3.10/site-packages)\u001b[0m\u001b[33m\n",
      "\u001b[0m\u001b[33mWARNING: Ignoring invalid distribution -vidia-cusolver-cu12 (/home/chuongg3/.local/lib/python3.10/site-packages)\u001b[0m\u001b[33m\n",
      "\u001b[0mDefaulting to user installation because normal site-packages is not writeable\n",
      "\u001b[33mWARNING: Ignoring invalid distribution -vidia-curand-cu12 (/home/chuongg3/.local/lib/python3.10/site-packages)\u001b[0m\u001b[33m\n",
      "\u001b[0m\u001b[33mWARNING: Ignoring invalid distribution -vidia-cusolver-cu12 (/home/chuongg3/.local/lib/python3.10/site-packages)\u001b[0m\u001b[33m\n",
      "\u001b[0mRequirement already satisfied: scikit-learn==1.5.2 in /home/chuongg3/.local/lib/python3.10/site-packages (1.5.2)\n",
      "Requirement already satisfied: numpy>=1.19.5 in /home/chuongg3/.local/lib/python3.10/site-packages (from scikit-learn==1.5.2) (1.26.4)\n",
      "Requirement already satisfied: scipy>=1.6.0 in /home/chuongg3/.local/lib/python3.10/site-packages (from scikit-learn==1.5.2) (1.14.1)\n",
      "Requirement already satisfied: joblib>=1.2.0 in /home/chuongg3/.local/lib/python3.10/site-packages (from scikit-learn==1.5.2) (1.4.2)\n",
      "Requirement already satisfied: threadpoolctl>=3.1.0 in /home/chuongg3/.local/lib/python3.10/site-packages (from scikit-learn==1.5.2) (3.5.0)\n",
      "\u001b[33mWARNING: Ignoring invalid distribution -vidia-curand-cu12 (/home/chuongg3/.local/lib/python3.10/site-packages)\u001b[0m\u001b[33m\n",
      "\u001b[0m\u001b[33mWARNING: Ignoring invalid distribution -vidia-cusolver-cu12 (/home/chuongg3/.local/lib/python3.10/site-packages)\u001b[0m\u001b[33m\n",
      "\u001b[0m\u001b[33mWARNING: Ignoring invalid distribution -vidia-curand-cu12 (/home/chuongg3/.local/lib/python3.10/site-packages)\u001b[0m\u001b[33m\n",
      "\u001b[0m\u001b[33mWARNING: Ignoring invalid distribution -vidia-cusolver-cu12 (/home/chuongg3/.local/lib/python3.10/site-packages)\u001b[0m\u001b[33m\n",
      "\u001b[0mDefaulting to user installation because normal site-packages is not writeable\n",
      "\u001b[33mWARNING: Ignoring invalid distribution -vidia-curand-cu12 (/home/chuongg3/.local/lib/python3.10/site-packages)\u001b[0m\u001b[33m\n",
      "\u001b[0m\u001b[33mWARNING: Ignoring invalid distribution -vidia-cusolver-cu12 (/home/chuongg3/.local/lib/python3.10/site-packages)\u001b[0m\u001b[33m\n",
      "\u001b[0mRequirement already satisfied: sentence_transformers==3.4.1 in /home/chuongg3/.local/lib/python3.10/site-packages (3.4.1)\n",
      "Requirement already satisfied: transformers<5.0.0,>=4.41.0 in /home/chuongg3/.local/lib/python3.10/site-packages (from sentence_transformers==3.4.1) (4.45.2)\n",
      "Requirement already satisfied: tqdm in /home/chuongg3/.local/lib/python3.10/site-packages (from sentence_transformers==3.4.1) (4.66.5)\n",
      "Requirement already satisfied: torch>=1.11.0 in /home/chuongg3/.local/lib/python3.10/site-packages (from sentence_transformers==3.4.1) (2.6.0)\n",
      "Requirement already satisfied: scikit-learn in /home/chuongg3/.local/lib/python3.10/site-packages (from sentence_transformers==3.4.1) (1.5.2)\n",
      "Requirement already satisfied: scipy in /home/chuongg3/.local/lib/python3.10/site-packages (from sentence_transformers==3.4.1) (1.14.1)\n",
      "Requirement already satisfied: huggingface-hub>=0.20.0 in /home/chuongg3/.local/lib/python3.10/site-packages (from sentence_transformers==3.4.1) (0.26.2)\n",
      "Requirement already satisfied: Pillow in /home/chuongg3/.local/lib/python3.10/site-packages (from sentence_transformers==3.4.1) (11.1.0)\n",
      "Requirement already satisfied: filelock in /home/chuongg3/.local/lib/python3.10/site-packages (from huggingface-hub>=0.20.0->sentence_transformers==3.4.1) (3.16.1)\n",
      "Requirement already satisfied: fsspec>=2023.5.0 in /home/chuongg3/.local/lib/python3.10/site-packages (from huggingface-hub>=0.20.0->sentence_transformers==3.4.1) (2024.10.0)\n",
      "Requirement already satisfied: packaging>=20.9 in /home/chuongg3/.local/lib/python3.10/site-packages (from huggingface-hub>=0.20.0->sentence_transformers==3.4.1) (24.2)\n",
      "Requirement already satisfied: pyyaml>=5.1 in /usr/lib/python3/dist-packages (from huggingface-hub>=0.20.0->sentence_transformers==3.4.1) (5.4.1)\n",
      "Requirement already satisfied: requests in /home/chuongg3/.local/lib/python3.10/site-packages (from huggingface-hub>=0.20.0->sentence_transformers==3.4.1) (2.32.3)\n",
      "Requirement already satisfied: typing-extensions>=3.7.4.3 in /home/chuongg3/.local/lib/python3.10/site-packages (from huggingface-hub>=0.20.0->sentence_transformers==3.4.1) (4.12.2)\n",
      "Requirement already satisfied: networkx in /home/chuongg3/.local/lib/python3.10/site-packages (from torch>=1.11.0->sentence_transformers==3.4.1) (3.4.2)\n",
      "Requirement already satisfied: jinja2 in /home/chuongg3/.local/lib/python3.10/site-packages (from torch>=1.11.0->sentence_transformers==3.4.1) (3.1.4)\n",
      "Requirement already satisfied: nvidia-cuda-nvrtc-cu12==12.4.127 in /home/chuongg3/.local/lib/python3.10/site-packages (from torch>=1.11.0->sentence_transformers==3.4.1) (12.4.127)\n",
      "Requirement already satisfied: nvidia-cuda-runtime-cu12==12.4.127 in /home/chuongg3/.local/lib/python3.10/site-packages (from torch>=1.11.0->sentence_transformers==3.4.1) (12.4.127)\n",
      "Requirement already satisfied: nvidia-cuda-cupti-cu12==12.4.127 in /home/chuongg3/.local/lib/python3.10/site-packages (from torch>=1.11.0->sentence_transformers==3.4.1) (12.4.127)\n",
      "Requirement already satisfied: nvidia-cudnn-cu12==9.1.0.70 in /home/chuongg3/.local/lib/python3.10/site-packages (from torch>=1.11.0->sentence_transformers==3.4.1) (9.1.0.70)\n",
      "Requirement already satisfied: nvidia-cublas-cu12==12.4.5.8 in /home/chuongg3/.local/lib/python3.10/site-packages (from torch>=1.11.0->sentence_transformers==3.4.1) (12.4.5.8)\n",
      "Requirement already satisfied: nvidia-cufft-cu12==11.2.1.3 in /home/chuongg3/.local/lib/python3.10/site-packages (from torch>=1.11.0->sentence_transformers==3.4.1) (11.2.1.3)\n",
      "Requirement already satisfied: nvidia-curand-cu12==10.3.5.147 in /home/chuongg3/.local/lib/python3.10/site-packages (from torch>=1.11.0->sentence_transformers==3.4.1) (10.3.5.147)\n",
      "Requirement already satisfied: nvidia-cusolver-cu12==11.6.1.9 in /home/chuongg3/.local/lib/python3.10/site-packages (from torch>=1.11.0->sentence_transformers==3.4.1) (11.6.1.9)\n",
      "Requirement already satisfied: nvidia-cusparse-cu12==12.3.1.170 in /home/chuongg3/.local/lib/python3.10/site-packages (from torch>=1.11.0->sentence_transformers==3.4.1) (12.3.1.170)\n",
      "Requirement already satisfied: nvidia-cusparselt-cu12==0.6.2 in /home/chuongg3/.local/lib/python3.10/site-packages (from torch>=1.11.0->sentence_transformers==3.4.1) (0.6.2)\n",
      "Requirement already satisfied: nvidia-nccl-cu12==2.21.5 in /home/chuongg3/.local/lib/python3.10/site-packages (from torch>=1.11.0->sentence_transformers==3.4.1) (2.21.5)\n",
      "Requirement already satisfied: nvidia-nvtx-cu12==12.4.127 in /home/chuongg3/.local/lib/python3.10/site-packages (from torch>=1.11.0->sentence_transformers==3.4.1) (12.4.127)\n",
      "Requirement already satisfied: nvidia-nvjitlink-cu12==12.4.127 in /home/chuongg3/.local/lib/python3.10/site-packages (from torch>=1.11.0->sentence_transformers==3.4.1) (12.4.127)\n",
      "Requirement already satisfied: triton==3.2.0 in /home/chuongg3/.local/lib/python3.10/site-packages (from torch>=1.11.0->sentence_transformers==3.4.1) (3.2.0)\n",
      "Requirement already satisfied: sympy==1.13.1 in /home/chuongg3/.local/lib/python3.10/site-packages (from torch>=1.11.0->sentence_transformers==3.4.1) (1.13.1)\n",
      "Requirement already satisfied: mpmath<1.4,>=1.1.0 in /home/chuongg3/.local/lib/python3.10/site-packages (from sympy==1.13.1->torch>=1.11.0->sentence_transformers==3.4.1) (1.3.0)\n",
      "Requirement already satisfied: numpy>=1.17 in /home/chuongg3/.local/lib/python3.10/site-packages (from transformers<5.0.0,>=4.41.0->sentence_transformers==3.4.1) (1.26.4)\n",
      "Requirement already satisfied: regex!=2019.12.17 in /home/chuongg3/.local/lib/python3.10/site-packages (from transformers<5.0.0,>=4.41.0->sentence_transformers==3.4.1) (2024.9.11)\n",
      "Requirement already satisfied: safetensors>=0.4.1 in /home/chuongg3/.local/lib/python3.10/site-packages (from transformers<5.0.0,>=4.41.0->sentence_transformers==3.4.1) (0.4.5)\n",
      "Requirement already satisfied: tokenizers<0.21,>=0.20 in /home/chuongg3/.local/lib/python3.10/site-packages (from transformers<5.0.0,>=4.41.0->sentence_transformers==3.4.1) (0.20.3)\n",
      "Requirement already satisfied: joblib>=1.2.0 in /home/chuongg3/.local/lib/python3.10/site-packages (from scikit-learn->sentence_transformers==3.4.1) (1.4.2)\n",
      "Requirement already satisfied: threadpoolctl>=3.1.0 in /home/chuongg3/.local/lib/python3.10/site-packages (from scikit-learn->sentence_transformers==3.4.1) (3.5.0)\n",
      "Requirement already satisfied: MarkupSafe>=2.0 in /home/chuongg3/.local/lib/python3.10/site-packages (from jinja2->torch>=1.11.0->sentence_transformers==3.4.1) (3.0.2)\n",
      "Requirement already satisfied: charset-normalizer<4,>=2 in /home/chuongg3/.local/lib/python3.10/site-packages (from requests->huggingface-hub>=0.20.0->sentence_transformers==3.4.1) (3.4.0)\n",
      "Requirement already satisfied: idna<4,>=2.5 in /home/chuongg3/.local/lib/python3.10/site-packages (from requests->huggingface-hub>=0.20.0->sentence_transformers==3.4.1) (3.10)\n",
      "Requirement already satisfied: urllib3<3,>=1.21.1 in /home/chuongg3/.local/lib/python3.10/site-packages (from requests->huggingface-hub>=0.20.0->sentence_transformers==3.4.1) (2.2.3)\n",
      "Requirement already satisfied: certifi>=2017.4.17 in /home/chuongg3/.local/lib/python3.10/site-packages (from requests->huggingface-hub>=0.20.0->sentence_transformers==3.4.1) (2024.8.30)\n",
      "\u001b[33mWARNING: Ignoring invalid distribution -vidia-curand-cu12 (/home/chuongg3/.local/lib/python3.10/site-packages)\u001b[0m\u001b[33m\n",
      "\u001b[0m\u001b[33mWARNING: Ignoring invalid distribution -vidia-cusolver-cu12 (/home/chuongg3/.local/lib/python3.10/site-packages)\u001b[0m\u001b[33m\n",
      "\u001b[0m\u001b[33mWARNING: Ignoring invalid distribution -vidia-curand-cu12 (/home/chuongg3/.local/lib/python3.10/site-packages)\u001b[0m\u001b[33m\n",
      "\u001b[0m\u001b[33mWARNING: Ignoring invalid distribution -vidia-cusolver-cu12 (/home/chuongg3/.local/lib/python3.10/site-packages)\u001b[0m\u001b[33m\n",
      "\u001b[0m"
     ]
    }
   ],
   "source": [
    "!pip install pandas==2.2.3\n",
    "!pip install numpy==1.26.4\n",
    "!pip install optuna==4.1.0\n",
    "!pip install seaborn==0.13.2\n",
    "!pip install regex==2024.9.11\n",
    "!pip install tensorflow==2.17.0\n",
    "!pip install scikit-learn==1.5.2\n",
    "!pip install sentence_transformers==3.4.1"
   ]
  },
  {
   "cell_type": "code",
   "execution_count": 2,
   "metadata": {},
   "outputs": [
    {
     "name": "stderr",
     "output_type": "stream",
     "text": [
      "2025-04-05 12:21:24.829403: I tensorflow/core/util/port.cc:153] oneDNN custom operations are on. You may see slightly different numerical results due to floating-point round-off errors from different computation orders. To turn them off, set the environment variable `TF_ENABLE_ONEDNN_OPTS=0`.\n",
      "2025-04-05 12:21:24.839421: E external/local_xla/xla/stream_executor/cuda/cuda_fft.cc:485] Unable to register cuFFT factory: Attempting to register factory for plugin cuFFT when one has already been registered\n",
      "2025-04-05 12:21:24.850997: E external/local_xla/xla/stream_executor/cuda/cuda_dnn.cc:8454] Unable to register cuDNN factory: Attempting to register factory for plugin cuDNN when one has already been registered\n",
      "2025-04-05 12:21:24.854387: E external/local_xla/xla/stream_executor/cuda/cuda_blas.cc:1452] Unable to register cuBLAS factory: Attempting to register factory for plugin cuBLAS when one has already been registered\n",
      "2025-04-05 12:21:24.862825: I tensorflow/core/platform/cpu_feature_guard.cc:210] This TensorFlow binary is optimized to use available CPU instructions in performance-critical operations.\n",
      "To enable the following instructions: AVX2 AVX_VNNI FMA, in other operations, rebuild TensorFlow with the appropriate compiler flags.\n",
      "2025-04-05 12:21:25.427057: W tensorflow/compiler/tf2tensorrt/utils/py_utils.cc:38] TF-TRT Warning: Could not find TensorRT\n",
      "/home/chuongg3/.local/lib/python3.10/site-packages/tqdm/auto.py:21: TqdmWarning: IProgress not found. Please update jupyter and ipywidgets. See https://ipywidgets.readthedocs.io/en/stable/user_install.html\n",
      "  from .autonotebook import tqdm as notebook_tqdm\n"
     ]
    }
   ],
   "source": [
    "import re\n",
    "import numpy as np\n",
    "import pandas as pd\n",
    "import seaborn as sns\n",
    "import tensorflow as tf\n",
    "import matplotlib.pyplot as plt\n",
    "from tensorflow.keras import layers, Model\n",
    "from sentence_transformers import SentenceTransformer\n",
    "from sklearn.metrics import matthews_corrcoef, classification_report, f1_score, confusion_matrix, ConfusionMatrixDisplay"
   ]
  },
  {
   "cell_type": "code",
   "execution_count": null,
   "metadata": {},
   "outputs": [],
   "source": [
    "# input_file_path = '/home/chuongg3/Downloads/test_df_with_labels.csv'\n",
    "input_file_path = './training_data/ED/dev.csv'\n",
    "model_file_path = 'CoAttentionSiameseDeepLearning.keras'\n",
    "\n",
    "threshold = 0.34"
   ]
  },
  {
   "cell_type": "markdown",
   "metadata": {},
   "source": [
    "### Load and Pre-process the Data"
   ]
  },
  {
   "cell_type": "code",
   "execution_count": 4,
   "metadata": {},
   "outputs": [],
   "source": [
    "# Load the dev data\n",
    "data = pd.read_csv(input_file_path)"
   ]
  },
  {
   "cell_type": "code",
   "execution_count": 5,
   "metadata": {},
   "outputs": [],
   "source": [
    "# Remove instances of [ref] from the text\n",
    "remove_ref = lambda x: re.sub(r'\\[ref\\]|\\[ref|ref\\]', '', x)\n",
    "\n",
    "data['Claim'] = data['Claim'].apply(remove_ref)\n",
    "data['Evidence'] = data['Evidence'].apply(remove_ref)"
   ]
  },
  {
   "cell_type": "markdown",
   "metadata": {},
   "source": [
    "#### Encode the Text"
   ]
  },
  {
   "cell_type": "code",
   "execution_count": 6,
   "metadata": {},
   "outputs": [],
   "source": [
    "# Load the Encoder\n",
    "encoder_model = SentenceTransformer(\"all-MiniLM-L6-v2\")\n",
    "# encoder_model = SentenceTransformer(\"multi-qa-mpnet-base-dot-v1\")\n",
    "\n",
    "# Encode the Training Set\n",
    "claim_embeddings = encoder_model.encode(data['Claim'])\n",
    "evidence_embeddings = encoder_model.encode(data['Evidence'])"
   ]
  },
  {
   "cell_type": "markdown",
   "metadata": {},
   "source": [
    "### Load the Model"
   ]
  },
  {
   "cell_type": "code",
   "execution_count": 7,
   "metadata": {},
   "outputs": [],
   "source": [
    "# Custom MultiHead Co-Attention layer\n",
    "class MultiHeadCoAttention(layers.Layer):\n",
    "    def __init__(self, attention_dim=128, num_heads=4, dropout_rate=0.1, **kwargs):\n",
    "        super(MultiHeadCoAttention, self).__init__(**kwargs)\n",
    "        self.attention_dim = attention_dim\n",
    "        self.num_heads = num_heads\n",
    "        self.head_dim = attention_dim // num_heads\n",
    "        self.dropout_rate = dropout_rate\n",
    "        \n",
    "        # Ensure the attention dimension is divisible by the number of heads\n",
    "        assert attention_dim % num_heads == 0, \"Attention dimension must be divisible by number of heads\"\n",
    "        \n",
    "    def build(self, input_shape):\n",
    "        # Ensure we have two inputs\n",
    "        assert isinstance(input_shape, list) and len(input_shape) == 2\n",
    "        \n",
    "        self.claim_dim = input_shape[0][-1]\n",
    "        self.evidence_dim = input_shape[1][-1]\n",
    "        \n",
    "        # Claim projections\n",
    "        self.claim_projection = layers.Dense(self.attention_dim * 3, use_bias=False)\n",
    "        \n",
    "        # Evidence projections\n",
    "        self.evidence_projection = layers.Dense(self.attention_dim * 3, use_bias=False)\n",
    "        \n",
    "        # Output projections\n",
    "        self.claim_output_projection = layers.Dense(self.claim_dim, use_bias=False)\n",
    "        self.evidence_output_projection = layers.Dense(self.evidence_dim, use_bias=False)\n",
    "        \n",
    "        # Dropout layer\n",
    "        self.dropout = layers.Dropout(self.dropout_rate)\n",
    "        \n",
    "        super(MultiHeadCoAttention, self).build(input_shape)\n",
    "    \n",
    "    def split_heads(self, x):\n",
    "        \"\"\"Split the last dimension into (num_heads, head_dim) with fixed batch size\"\"\"\n",
    "        batch_size = tf.shape(x)[0]\n",
    "        seq_len = tf.shape(x)[1]\n",
    "        \n",
    "        # Reshape with fixed dimensions where possible\n",
    "        x = tf.reshape(x, [batch_size, seq_len, self.num_heads, self.head_dim])\n",
    "        return tf.transpose(x, [0, 2, 1, 3])\n",
    "    \n",
    "    def call(self, inputs, training=None):\n",
    "        # Unpack inputs\n",
    "        claim, evidence = inputs\n",
    "\n",
    "        # Get projection for claim (Q, K, V)\n",
    "        claim_proj = self.claim_projection(claim)\n",
    "\n",
    "        # Split claim projection into query, key, value\n",
    "        claim_proj_split = tf.split(claim_proj, 3, axis=-1)\n",
    "        claim_query, claim_key, claim_value = claim_proj_split\n",
    "\n",
    "        # Get projection for evidence (Q, K, V)\n",
    "        evidence_proj = self.evidence_projection(evidence)\n",
    "\n",
    "        # Split evidence projection into query, key, value\n",
    "        evidence_proj_split = tf.split(evidence_proj, 3, axis=-1)\n",
    "        evidence_query, evidence_key, evidence_value = evidence_proj_split\n",
    "\n",
    "        # Split heads\n",
    "        claim_query_heads = self.split_heads(claim_query)\n",
    "        claim_key_heads = self.split_heads(claim_key)\n",
    "        claim_value_heads = self.split_heads(claim_value)\n",
    "\n",
    "        evidence_query_heads = self.split_heads(evidence_query)\n",
    "        evidence_key_heads = self.split_heads(evidence_key)\n",
    "        evidence_value_heads = self.split_heads(evidence_value)\n",
    "\n",
    "        # Claim attends to evidence with fixed scaling factor\n",
    "        claim_evidence_scores = tf.matmul(claim_query_heads, evidence_key_heads, transpose_b=True)\n",
    "        claim_evidence_scores = claim_evidence_scores / tf.sqrt(tf.cast(self.head_dim, tf.float32))\n",
    "\n",
    "        claim_evidence_attention = tf.nn.softmax(claim_evidence_scores, axis=-1)\n",
    "        claim_evidence_attention = self.dropout(claim_evidence_attention, training=training)\n",
    "\n",
    "        claim_context = tf.matmul(claim_evidence_attention, evidence_value_heads)\n",
    "\n",
    "        # Evidence attends to claim with fixed scaling factor\n",
    "        evidence_claim_scores = tf.matmul(evidence_query_heads, claim_key_heads, transpose_b=True)\n",
    "        evidence_claim_scores = evidence_claim_scores / tf.sqrt(tf.cast(self.head_dim, tf.float32))\n",
    "\n",
    "        evidence_claim_attention = tf.nn.softmax(evidence_claim_scores, axis=-1)\n",
    "        evidence_claim_attention = self.dropout(evidence_claim_attention, training=training)\n",
    "\n",
    "        evidence_context = tf.matmul(evidence_claim_attention, claim_value_heads)\n",
    "\n",
    "        # Combine heads and transpose back\n",
    "        claim_context = tf.transpose(claim_context, [0, 2, 1, 3])\n",
    "        evidence_context = tf.transpose(evidence_context, [0, 2, 1, 3])\n",
    "\n",
    "        # Instead of reshaping to force seq_len=1, perform average pooling over the sequence dimension:\n",
    "        claim_context = tf.reduce_mean(claim_context, axis=1, keepdims=True)\n",
    "        evidence_context = tf.reduce_mean(evidence_context, axis=1, keepdims=True)\n",
    "\n",
    "        # Reshape with fixed dimensions where possible\n",
    "        batch_size = tf.shape(claim)[0]\n",
    "        claim_context = tf.reshape(claim_context, [batch_size, 1, self.attention_dim])\n",
    "        evidence_context = tf.reshape(evidence_context, [batch_size, 1, self.attention_dim])\n",
    "\n",
    "        # Project back to original dimensions using Dense layers\n",
    "        claim_output = self.claim_output_projection(claim_context)\n",
    "        evidence_output = self.evidence_output_projection(evidence_context)\n",
    "\n",
    "        return claim_output, evidence_output"
   ]
  },
  {
   "cell_type": "code",
   "execution_count": 8,
   "metadata": {},
   "outputs": [
    {
     "name": "stderr",
     "output_type": "stream",
     "text": [
      "WARNING: All log messages before absl::InitializeLog() is called are written to STDERR\n",
      "I0000 00:00:1743852095.651080   85015 cuda_executor.cc:1015] successful NUMA node read from SysFS had negative value (-1), but there must be at least one NUMA node, so returning NUMA node zero. See more at https://github.com/torvalds/linux/blob/v6.0/Documentation/ABI/testing/sysfs-bus-pci#L344-L355\n",
      "2025-04-05 12:21:35.651837: W tensorflow/core/common_runtime/gpu/gpu_device.cc:2343] Cannot dlopen some GPU libraries. Please make sure the missing libraries mentioned above are installed properly if you would like to use GPU. Follow the guide at https://www.tensorflow.org/install/gpu for how to download and setup the required libraries for your platform.\n",
      "Skipping registering GPU devices...\n"
     ]
    }
   ],
   "source": [
    "# Load the model with custom layer\n",
    "model = tf.keras.models.load_model(\n",
    "    model_file_path, \n",
    "    custom_objects={'MultiHeadCoAttention': MultiHeadCoAttention}\n",
    ")"
   ]
  },
  {
   "cell_type": "markdown",
   "metadata": {},
   "source": [
    "### Get True and Predicted Labels"
   ]
  },
  {
   "cell_type": "code",
   "execution_count": 9,
   "metadata": {},
   "outputs": [
    {
     "name": "stdout",
     "output_type": "stream",
     "text": [
      "\u001b[1m 42/186\u001b[0m \u001b[32m━━━━\u001b[0m\u001b[37m━━━━━━━━━━━━━━━━\u001b[0m \u001b[1m0s\u001b[0m 1ms/step   "
     ]
    },
    {
     "name": "stderr",
     "output_type": "stream",
     "text": [
      "WARNING: All log messages before absl::InitializeLog() is called are written to STDERR\n",
      "I0000 00:00:1743852096.027372   85179 service.cc:146] XLA service 0x7a633000b7a0 initialized for platform Host (this does not guarantee that XLA will be used). Devices:\n",
      "I0000 00:00:1743852096.027396   85179 service.cc:154]   StreamExecutor device (0): Host, Default Version\n",
      "2025-04-05 12:21:36.038254: I tensorflow/compiler/mlir/tensorflow/utils/dump_mlir_util.cc:268] disabling MLIR crash reproducer, set env var `MLIR_CRASH_REPRODUCER_DIRECTORY` to enable.\n",
      "I0000 00:00:1743852096.129240   85179 device_compiler.h:188] Compiled cluster using XLA!  This line is logged at most once for the lifetime of the process.\n"
     ]
    },
    {
     "name": "stdout",
     "output_type": "stream",
     "text": [
      "\u001b[1m186/186\u001b[0m \u001b[32m━━━━━━━━━━━━━━━━━━━━\u001b[0m\u001b[37m\u001b[0m \u001b[1m1s\u001b[0m 3ms/step\n"
     ]
    }
   ],
   "source": [
    "results = model.predict([claim_embeddings, evidence_embeddings])\n",
    "y_true = data['label'].to_numpy()"
   ]
  },
  {
   "cell_type": "markdown",
   "metadata": {},
   "source": [
    "### Threhold Tuning"
   ]
  },
  {
   "cell_type": "code",
   "execution_count": 10,
   "metadata": {},
   "outputs": [
    {
     "name": "stdout",
     "output_type": "stream",
     "text": [
      "Best Threshold: 0.34000000000000014\n"
     ]
    }
   ],
   "source": [
    "# Threshold Tuning\n",
    "thresholds = np.arange(0.2, 0.7, 0.01)\n",
    "scores = [f1_score(y_true, (results > t).astype(int), average='macro') for t in thresholds]\n",
    "bestThreshold = thresholds[np.argmax(scores)]\n",
    "print(f\"Best Threshold: {bestThreshold}\")"
   ]
  },
  {
   "cell_type": "markdown",
   "metadata": {},
   "source": [
    "### Print Metrics"
   ]
  },
  {
   "cell_type": "code",
   "execution_count": 11,
   "metadata": {},
   "outputs": [
    {
     "name": "stdout",
     "output_type": "stream",
     "text": [
      "              precision    recall  f1-score   support\n",
      "\n",
      "           0  0.8812868147 0.9076061596 0.8942528736      4286\n",
      "           1  0.7380952381 0.6804878049 0.7081218274      1640\n",
      "\n",
      "    accuracy                      0.8447519406      5926\n",
      "   macro avg  0.8096910264 0.7940469822 0.8011873505      5926\n",
      "weighted avg  0.8416590412 0.8447519406 0.8427417504      5926\n",
      "\n"
     ]
    }
   ],
   "source": [
    "# Apply the best threshold to the predictions\n",
    "y_pred_binary = (results > bestThreshold).astype(int)\n",
    "\n",
    "# Calculate the classification report\n",
    "report = classification_report(y_true=y_true, y_pred=y_pred_binary, digits=10)\n",
    "print(report)"
   ]
  },
  {
   "cell_type": "code",
   "execution_count": 12,
   "metadata": {},
   "outputs": [
    {
     "name": "stdout",
     "output_type": "stream",
     "text": [
      "Matthews Correlation Coefficient: 0.6035352905480197\n"
     ]
    }
   ],
   "source": [
    "# Calculate Matthews Correlation Coefficient\n",
    "mcc = matthews_corrcoef(y_true, y_pred_binary)\n",
    "print(f\"Matthews Correlation Coefficient: {mcc}\")"
   ]
  },
  {
   "cell_type": "markdown",
   "metadata": {},
   "source": [
    "### Generate Confusion Matrix"
   ]
  },
  {
   "cell_type": "code",
   "execution_count": 13,
   "metadata": {},
   "outputs": [
    {
     "data": {
      "image/png": "[encoded data removed]",
      "text/plain": [
       "<Figure size 800x600 with 2 Axes>"
      ]
     },
     "metadata": {},
     "output_type": "display_data"
    }
   ],
   "source": [
    "confusion_matrix = confusion_matrix(y_true, y_pred_binary)\n",
    "\n",
    "plt.figure(figsize=(8, 6))\n",
    "sns.heatmap(confusion_matrix, annot=True, fmt='d', cmap='crest', xticklabels=[\"0\", \"1\"], yticklabels=[\"0\", \"1\"])\n",
    "plt.title(\"Confusion Matrix for Co-Attention Siamese Model\")\n",
    "plt.xlabel(\"Predicted\")\n",
    "plt.ylabel(\"True\")\n",
    "plt.savefig('confusion_matrix.png', dpi=300, bbox_inches='tight')\n",
    "plt.show()"
   ]
  }
 ],
 "metadata": {
  "kernelspec": {
   "display_name": "Python 3",
   "language": "python",
   "name": "python3"
  },
  "language_info": {
   "codemirror_mode": {
    "name": "ipython",
    "version": 3
   },
   "file_extension": ".py",
   "mimetype": "text/x-python",
   "name": "python",
   "nbconvert_exporter": "python",
   "pygments_lexer": "ipython3",
   "version": "3.10.12"
  }
 },
 "nbformat": 4,
 "nbformat_minor": 2
}
