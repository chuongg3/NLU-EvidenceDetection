{
 "cells": [
  {
   "cell_type": "markdown",
   "metadata": {},
   "source": [
    "# Inference Notebook for Co-Attention Siamese Model"
   ]
  },
  {
   "cell_type": "markdown",
   "metadata": {},
   "source": [
    "### Include Libraries"
   ]
  },
  {
   "cell_type": "code",
   "execution_count": null,
   "metadata": {},
   "outputs": [
    {
     "name": "stderr",
     "output_type": "stream",
     "text": [
      "2025-04-03 18:02:25.558159: I tensorflow/core/util/port.cc:153] oneDNN custom operations are on. You may see slightly different numerical results due to floating-point round-off errors from different computation orders. To turn them off, set the environment variable `TF_ENABLE_ONEDNN_OPTS=0`.\n",
      "2025-04-03 18:02:25.568094: E external/local_xla/xla/stream_executor/cuda/cuda_fft.cc:485] Unable to register cuFFT factory: Attempting to register factory for plugin cuFFT when one has already been registered\n",
      "2025-04-03 18:02:25.578928: E external/local_xla/xla/stream_executor/cuda/cuda_dnn.cc:8454] Unable to register cuDNN factory: Attempting to register factory for plugin cuDNN when one has already been registered\n",
      "2025-04-03 18:02:25.582082: E external/local_xla/xla/stream_executor/cuda/cuda_blas.cc:1452] Unable to register cuBLAS factory: Attempting to register factory for plugin cuBLAS when one has already been registered\n",
      "2025-04-03 18:02:25.590547: I tensorflow/core/platform/cpu_feature_guard.cc:210] This TensorFlow binary is optimized to use available CPU instructions in performance-critical operations.\n",
      "To enable the following instructions: AVX2 AVX_VNNI FMA, in other operations, rebuild TensorFlow with the appropriate compiler flags.\n",
      "2025-04-03 18:02:26.103642: W tensorflow/compiler/tf2tensorrt/utils/py_utils.cc:38] TF-TRT Warning: Could not find TensorRT\n"
     ]
    }
   ],
   "source": [
    "import re\n",
    "import pandas as pd\n",
    "import tensorflow as tf\n",
    "from tensorflow.keras import layers"
   ]
  },
  {
   "cell_type": "markdown",
   "metadata": {},
   "source": [
    "### Setting Model Parameters"
   ]
  },
  {
   "cell_type": "code",
   "execution_count": 2,
   "metadata": {},
   "outputs": [],
   "source": [
    "# input_file_path = './training_data/training_data/ED/dev.csv'\n",
    "input_file_path = './test_data/ED/test.csv'\n",
    "model_file_path = 'CoAttentionSiameseDeepLearning.keras'\n",
    "output_file = './predictions.csv'\n",
    "\n",
    "threshold = 0.34"
   ]
  },
  {
   "cell_type": "markdown",
   "metadata": {},
   "source": [
    "### Load and Pre-process the Data"
   ]
  },
  {
   "cell_type": "code",
   "execution_count": 3,
   "metadata": {},
   "outputs": [],
   "source": [
    "# Load the data\n",
    "data = pd.read_csv(input_file_path)"
   ]
  },
  {
   "cell_type": "markdown",
   "metadata": {},
   "source": [
    "#### Pre-Process the Text"
   ]
  },
  {
   "cell_type": "code",
   "execution_count": 4,
   "metadata": {},
   "outputs": [],
   "source": [
    "# Remove [ref] from the texts\n",
    "remove_ref = lambda x: re.sub(r'\\[ref\\]|\\[ref|ref\\]', '', x)\n",
    "\n",
    "data['Claim'] = data['Claim'].apply(remove_ref)\n",
    "data['Evidence'] = data['Evidence'].apply(remove_ref)"
   ]
  },
  {
   "cell_type": "markdown",
   "metadata": {},
   "source": [
    "#### Encode the Texts"
   ]
  },
  {
   "cell_type": "code",
   "execution_count": 5,
   "metadata": {},
   "outputs": [
    {
     "name": "stderr",
     "output_type": "stream",
     "text": [
      "/home/chuongg3/.local/lib/python3.10/site-packages/tqdm/auto.py:21: TqdmWarning: IProgress not found. Please update jupyter and ipywidgets. See https://ipywidgets.readthedocs.io/en/stable/user_install.html\n",
      "  from .autonotebook import tqdm as notebook_tqdm\n"
     ]
    }
   ],
   "source": [
    "from sentence_transformers import SentenceTransformer\n",
    "\n",
    "# Load the Encoder\n",
    "encoder_model = SentenceTransformer(\"all-MiniLM-L6-v2\")\n",
    "\n",
    "# Encode the Training Set\n",
    "claim_embeddings = encoder_model.encode(data['Claim'])\n",
    "evidence_embeddings = encoder_model.encode(data['Evidence'])"
   ]
  },
  {
   "cell_type": "markdown",
   "metadata": {},
   "source": [
    "### Load the Model"
   ]
  },
  {
   "cell_type": "code",
   "execution_count": null,
   "metadata": {},
   "outputs": [],
   "source": [
    "# Custom MultiHead Co-Attention layer\n",
    "class MultiHeadCoAttention(layers.Layer):\n",
    "    def __init__(self, attention_dim=128, num_heads=4, dropout_rate=0.1, **kwargs):\n",
    "        super(MultiHeadCoAttention, self).__init__(**kwargs)\n",
    "        self.attention_dim = attention_dim\n",
    "        self.num_heads = num_heads\n",
    "        self.head_dim = attention_dim // num_heads\n",
    "        self.dropout_rate = dropout_rate\n",
    "        \n",
    "        # Ensure the attention dimension is divisible by the number of heads\n",
    "        assert attention_dim % num_heads == 0, \"Attention dimension must be divisible by number of heads\"\n",
    "        \n",
    "    def build(self, input_shape):\n",
    "        # Ensure we have two inputs\n",
    "        assert isinstance(input_shape, list) and len(input_shape) == 2\n",
    "        \n",
    "        self.claim_dim = input_shape[0][-1]\n",
    "        self.evidence_dim = input_shape[1][-1]\n",
    "        \n",
    "        # Claim projections\n",
    "        self.claim_projection = layers.Dense(self.attention_dim * 3, use_bias=False)\n",
    "        \n",
    "        # Evidence projections\n",
    "        self.evidence_projection = layers.Dense(self.attention_dim * 3, use_bias=False)\n",
    "        \n",
    "        # Output projections\n",
    "        self.claim_output_projection = layers.Dense(self.claim_dim, use_bias=False)\n",
    "        self.evidence_output_projection = layers.Dense(self.evidence_dim, use_bias=False)\n",
    "        \n",
    "        # Dropout layer\n",
    "        self.dropout = layers.Dropout(self.dropout_rate)\n",
    "        \n",
    "        super(MultiHeadCoAttention, self).build(input_shape)\n",
    "    \n",
    "    def split_heads(self, x):\n",
    "        \"\"\"Split the last dimension into (num_heads, head_dim) with fixed batch size\"\"\"\n",
    "        batch_size = tf.shape(x)[0]\n",
    "        seq_len = tf.shape(x)[1]\n",
    "        \n",
    "        # Reshape with fixed dimensions where possible\n",
    "        x = tf.reshape(x, [batch_size, seq_len, self.num_heads, self.head_dim])\n",
    "        return tf.transpose(x, [0, 2, 1, 3])\n",
    "    \n",
    "    def call(self, inputs, training=None):\n",
    "        # Unpack inputs\n",
    "        claim, evidence = inputs\n",
    "\n",
    "        # Get projection for claim (Q, K, V)\n",
    "        claim_proj = self.claim_projection(claim)\n",
    "\n",
    "        # Split claim projection into query, key, value\n",
    "        claim_proj_split = tf.split(claim_proj, 3, axis=-1)\n",
    "        claim_query, claim_key, claim_value = claim_proj_split\n",
    "\n",
    "        # Get projection for evidence (Q, K, V)\n",
    "        evidence_proj = self.evidence_projection(evidence)\n",
    "\n",
    "        # Split evidence projection into query, key, value\n",
    "        evidence_proj_split = tf.split(evidence_proj, 3, axis=-1)\n",
    "        evidence_query, evidence_key, evidence_value = evidence_proj_split\n",
    "\n",
    "        # Split heads\n",
    "        claim_query_heads = self.split_heads(claim_query)\n",
    "        claim_key_heads = self.split_heads(claim_key)\n",
    "        claim_value_heads = self.split_heads(claim_value)\n",
    "\n",
    "        evidence_query_heads = self.split_heads(evidence_query)\n",
    "        evidence_key_heads = self.split_heads(evidence_key)\n",
    "        evidence_value_heads = self.split_heads(evidence_value)\n",
    "\n",
    "        # Claim attends to evidence with fixed scaling factor\n",
    "        claim_evidence_scores = tf.matmul(claim_query_heads, evidence_key_heads, transpose_b=True)\n",
    "        claim_evidence_scores = claim_evidence_scores / tf.sqrt(tf.cast(self.head_dim, tf.float32))\n",
    "\n",
    "        claim_evidence_attention = tf.nn.softmax(claim_evidence_scores, axis=-1)\n",
    "        claim_evidence_attention = self.dropout(claim_evidence_attention, training=training)\n",
    "\n",
    "        claim_context = tf.matmul(claim_evidence_attention, evidence_value_heads)\n",
    "\n",
    "        # Evidence attends to claim with fixed scaling factor\n",
    "        evidence_claim_scores = tf.matmul(evidence_query_heads, claim_key_heads, transpose_b=True)\n",
    "        evidence_claim_scores = evidence_claim_scores / tf.sqrt(tf.cast(self.head_dim, tf.float32))\n",
    "\n",
    "        evidence_claim_attention = tf.nn.softmax(evidence_claim_scores, axis=-1)\n",
    "        evidence_claim_attention = self.dropout(evidence_claim_attention, training=training)\n",
    "\n",
    "        evidence_context = tf.matmul(evidence_claim_attention, claim_value_heads)\n",
    "\n",
    "        # Combine heads and transpose back\n",
    "        claim_context = tf.transpose(claim_context, [0, 2, 1, 3])\n",
    "        evidence_context = tf.transpose(evidence_context, [0, 2, 1, 3])\n",
    "\n",
    "        # Instead of reshaping to force seq_len=1, perform average pooling over the sequence dimension:\n",
    "        claim_context = tf.reduce_mean(claim_context, axis=1, keepdims=True)\n",
    "        evidence_context = tf.reduce_mean(evidence_context, axis=1, keepdims=True)\n",
    "\n",
    "        # Reshape with fixed dimensions where possible\n",
    "        batch_size = tf.shape(claim)[0]\n",
    "        claim_context = tf.reshape(claim_context, [batch_size, 1, self.attention_dim])\n",
    "        evidence_context = tf.reshape(evidence_context, [batch_size, 1, self.attention_dim])\n",
    "\n",
    "        # Project back to original dimensions using Dense layers\n",
    "        claim_output = self.claim_output_projection(claim_context)\n",
    "        evidence_output = self.evidence_output_projection(evidence_context)\n",
    "\n",
    "        return claim_output, evidence_output"
   ]
  },
  {
   "cell_type": "code",
   "execution_count": null,
   "metadata": {},
   "outputs": [
    {
     "name": "stderr",
     "output_type": "stream",
     "text": [
      "WARNING: All log messages before absl::InitializeLog() is called are written to STDERR\n",
      "I0000 00:00:1743699756.935031   34163 cuda_executor.cc:1015] successful NUMA node read from SysFS had negative value (-1), but there must be at least one NUMA node, so returning NUMA node zero. See more at https://github.com/torvalds/linux/blob/v6.0/Documentation/ABI/testing/sysfs-bus-pci#L344-L355\n",
      "I0000 00:00:1743699756.936292   34163 cuda_executor.cc:1015] successful NUMA node read from SysFS had negative value (-1), but there must be at least one NUMA node, so returning NUMA node zero. See more at https://github.com/torvalds/linux/blob/v6.0/Documentation/ABI/testing/sysfs-bus-pci#L344-L355\n",
      "I0000 00:00:1743699756.936467   34163 cuda_executor.cc:1015] successful NUMA node read from SysFS had negative value (-1), but there must be at least one NUMA node, so returning NUMA node zero. See more at https://github.com/torvalds/linux/blob/v6.0/Documentation/ABI/testing/sysfs-bus-pci#L344-L355\n",
      "I0000 00:00:1743699756.937450   34163 cuda_executor.cc:1015] successful NUMA node read from SysFS had negative value (-1), but there must be at least one NUMA node, so returning NUMA node zero. See more at https://github.com/torvalds/linux/blob/v6.0/Documentation/ABI/testing/sysfs-bus-pci#L344-L355\n",
      "I0000 00:00:1743699756.937585   34163 cuda_executor.cc:1015] successful NUMA node read from SysFS had negative value (-1), but there must be at least one NUMA node, so returning NUMA node zero. See more at https://github.com/torvalds/linux/blob/v6.0/Documentation/ABI/testing/sysfs-bus-pci#L344-L355\n",
      "I0000 00:00:1743699756.937674   34163 cuda_executor.cc:1015] successful NUMA node read from SysFS had negative value (-1), but there must be at least one NUMA node, so returning NUMA node zero. See more at https://github.com/torvalds/linux/blob/v6.0/Documentation/ABI/testing/sysfs-bus-pci#L344-L355\n",
      "I0000 00:00:1743699756.937803   34163 cuda_executor.cc:1015] successful NUMA node read from SysFS had negative value (-1), but there must be at least one NUMA node, so returning NUMA node zero. See more at https://github.com/torvalds/linux/blob/v6.0/Documentation/ABI/testing/sysfs-bus-pci#L344-L355\n",
      "I0000 00:00:1743699756.937883   34163 cuda_executor.cc:1015] successful NUMA node read from SysFS had negative value (-1), but there must be at least one NUMA node, so returning NUMA node zero. See more at https://github.com/torvalds/linux/blob/v6.0/Documentation/ABI/testing/sysfs-bus-pci#L344-L355\n",
      "I0000 00:00:1743699756.937970   34163 cuda_executor.cc:1015] successful NUMA node read from SysFS had negative value (-1), but there must be at least one NUMA node, so returning NUMA node zero. See more at https://github.com/torvalds/linux/blob/v6.0/Documentation/ABI/testing/sysfs-bus-pci#L344-L355\n",
      "2025-04-03 18:02:36.938041: I tensorflow/core/common_runtime/gpu/gpu_device.cc:2021] Created device /job:localhost/replica:0/task:0/device:GPU:0 with 1907 MB memory:  -> device: 0, name: NVIDIA GeForce RTX 3050 Ti Laptop GPU, pci bus id: 0000:01:00.0, compute capability: 8.6\n"
     ]
    }
   ],
   "source": [
    "# Load the model with custom layer\n",
    "model = tf.keras.models.load_model(\n",
    "    model_file_path, \n",
    "    custom_objects={'MultiHeadCoAttention': MultiHeadCoAttention}\n",
    ")"
   ]
  },
  {
   "cell_type": "markdown",
   "metadata": {},
   "source": [
    "### Predict the Results"
   ]
  },
  {
   "cell_type": "code",
   "execution_count": 8,
   "metadata": {},
   "outputs": [
    {
     "name": "stderr",
     "output_type": "stream",
     "text": [
      "WARNING: All log messages before absl::InitializeLog() is called are written to STDERR\n",
      "I0000 00:00:1743699757.776063   34363 service.cc:146] XLA service 0x7c7ff8003480 initialized for platform CUDA (this does not guarantee that XLA will be used). Devices:\n",
      "I0000 00:00:1743699757.776085   34363 service.cc:154]   StreamExecutor device (0): NVIDIA GeForce RTX 3050 Ti Laptop GPU, Compute Capability 8.6\n",
      "2025-04-03 18:02:37.786808: I tensorflow/compiler/mlir/tensorflow/utils/dump_mlir_util.cc:268] disabling MLIR crash reproducer, set env var `MLIR_CRASH_REPRODUCER_DIRECTORY` to enable.\n",
      "2025-04-03 18:02:37.834348: I external/local_xla/xla/stream_executor/cuda/cuda_dnn.cc:531] Loaded cuDNN version 8907\n",
      "2025-04-03 18:02:37.854512: W external/local_xla/xla/service/gpu/nvptx_compiler.cc:762] The NVIDIA driver's CUDA version is 12.2 which is older than the ptxas CUDA version (12.3.107). Because the driver is older than the ptxas version, XLA is disabling parallel compilation, which may slow down compilation. You should update your NVIDIA driver or use the NVIDIA-provided CUDA forward compatibility packages.\n"
     ]
    },
    {
     "name": "stdout",
     "output_type": "stream",
     "text": [
      "\u001b[1m102/147\u001b[0m \u001b[32m━━━━━━━━━━━━━\u001b[0m\u001b[37m━━━━━━━\u001b[0m \u001b[1m0s\u001b[0m 1000us/step"
     ]
    },
    {
     "name": "stderr",
     "output_type": "stream",
     "text": [
      "I0000 00:00:1743699758.403518   34363 device_compiler.h:188] Compiled cluster using XLA!  This line is logged at most once for the lifetime of the process.\n"
     ]
    },
    {
     "name": "stdout",
     "output_type": "stream",
     "text": [
      "\u001b[1m147/147\u001b[0m \u001b[32m━━━━━━━━━━━━━━━━━━━━\u001b[0m\u001b[37m\u001b[0m \u001b[1m2s\u001b[0m 6ms/step \n"
     ]
    }
   ],
   "source": [
    "results = model.predict([claim_embeddings, evidence_embeddings])"
   ]
  },
  {
   "cell_type": "markdown",
   "metadata": {},
   "source": [
    "#### Threshold the Results"
   ]
  },
  {
   "cell_type": "code",
   "execution_count": 9,
   "metadata": {},
   "outputs": [],
   "source": [
    "threshold_results = (results > threshold).astype(int)"
   ]
  },
  {
   "cell_type": "markdown",
   "metadata": {},
   "source": [
    "### Write the Results to CSV"
   ]
  },
  {
   "cell_type": "code",
   "execution_count": 13,
   "metadata": {},
   "outputs": [
    {
     "data": {
      "text/html": [
       "<div>\n",
       "<style scoped>\n",
       "    .dataframe tbody tr th:only-of-type {\n",
       "        vertical-align: middle;\n",
       "    }\n",
       "\n",
       "    .dataframe tbody tr th {\n",
       "        vertical-align: top;\n",
       "    }\n",
       "\n",
       "    .dataframe thead th {\n",
       "        text-align: right;\n",
       "    }\n",
       "</style>\n",
       "<table border=\"1\" class=\"dataframe\">\n",
       "  <thead>\n",
       "    <tr style=\"text-align: right;\">\n",
       "      <th></th>\n",
       "      <th>prediction</th>\n",
       "    </tr>\n",
       "  </thead>\n",
       "  <tbody>\n",
       "    <tr>\n",
       "      <th>0</th>\n",
       "      <td>0</td>\n",
       "    </tr>\n",
       "    <tr>\n",
       "      <th>1</th>\n",
       "      <td>0</td>\n",
       "    </tr>\n",
       "    <tr>\n",
       "      <th>2</th>\n",
       "      <td>1</td>\n",
       "    </tr>\n",
       "    <tr>\n",
       "      <th>3</th>\n",
       "      <td>0</td>\n",
       "    </tr>\n",
       "    <tr>\n",
       "      <th>4</th>\n",
       "      <td>0</td>\n",
       "    </tr>\n",
       "    <tr>\n",
       "      <th>5</th>\n",
       "      <td>0</td>\n",
       "    </tr>\n",
       "    <tr>\n",
       "      <th>6</th>\n",
       "      <td>0</td>\n",
       "    </tr>\n",
       "    <tr>\n",
       "      <th>7</th>\n",
       "      <td>0</td>\n",
       "    </tr>\n",
       "    <tr>\n",
       "      <th>8</th>\n",
       "      <td>0</td>\n",
       "    </tr>\n",
       "    <tr>\n",
       "      <th>9</th>\n",
       "      <td>0</td>\n",
       "    </tr>\n",
       "  </tbody>\n",
       "</table>\n",
       "</div>"
      ],
      "text/plain": [
       "   prediction\n",
       "0           0\n",
       "1           0\n",
       "2           1\n",
       "3           0\n",
       "4           0\n",
       "5           0\n",
       "6           0\n",
       "7           0\n",
       "8           0\n",
       "9           0"
      ]
     },
     "execution_count": 13,
     "metadata": {},
     "output_type": "execute_result"
    }
   ],
   "source": [
    "results_df = pd.DataFrame(threshold_results, columns=['prediction'])\n",
    "results_df.head(10)"
   ]
  },
  {
   "cell_type": "code",
   "execution_count": null,
   "metadata": {},
   "outputs": [],
   "source": [
    "# results_df.to_csv(output_file, index=False)"
   ]
  }
 ],
 "metadata": {
  "kernelspec": {
   "display_name": "Python 3",
   "language": "python",
   "name": "python3"
  },
  "language_info": {
   "codemirror_mode": {
    "name": "ipython",
    "version": 3
   },
   "file_extension": ".py",
   "mimetype": "text/x-python",
   "name": "python",
   "nbconvert_exporter": "python",
   "pygments_lexer": "ipython3",
   "version": "3.10.12"
  }
 },
 "nbformat": 4,
 "nbformat_minor": 2
}
